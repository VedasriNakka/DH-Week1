{
 "cells": [
  {
   "cell_type": "markdown",
   "id": "bound-cannon",
   "metadata": {},
   "source": [
    "### Week 5: Digital Humanities "
   ]
  },
  {
   "cell_type": "code",
   "execution_count": 1,
   "id": "auburn-forward",
   "metadata": {},
   "outputs": [],
   "source": [
    "import pandas as pd\n",
    "import numpy as np; np.random.seed(1)  # fix a seed for reproducible random sampling\n",
    "import matplotlib.pyplot as plt\n",
    "import scipy.special\n",
    "import itertools\n",
    "import re\n",
    "from scipy.stats import binom\n",
    "from collections import Counter\n"
   ]
  },
  {
   "cell_type": "code",
   "execution_count": 2,
   "id": "sustainable-episode",
   "metadata": {},
   "outputs": [
    {
     "name": "stdout",
     "output_type": "stream",
     "text": [
      "85\n"
     ]
    },
    {
     "data": {
      "text/html": [
       "<div>\n",
       "<style scoped>\n",
       "    .dataframe tbody tr th:only-of-type {\n",
       "        vertical-align: middle;\n",
       "    }\n",
       "\n",
       "    .dataframe tbody tr th {\n",
       "        vertical-align: top;\n",
       "    }\n",
       "\n",
       "    .dataframe thead th {\n",
       "        text-align: right;\n",
       "    }\n",
       "</style>\n",
       "<table border=\"1\" class=\"dataframe\">\n",
       "  <thead>\n",
       "    <tr style=\"text-align: right;\">\n",
       "      <th></th>\n",
       "      <th>upon</th>\n",
       "      <th>the</th>\n",
       "      <th>state</th>\n",
       "      <th>enough</th>\n",
       "      <th>while</th>\n",
       "      <th>any</th>\n",
       "      <th>his</th>\n",
       "      <th>were</th>\n",
       "      <th>to</th>\n",
       "    </tr>\n",
       "  </thead>\n",
       "  <tbody>\n",
       "    <tr>\n",
       "      <th>39</th>\n",
       "      <td>0</td>\n",
       "      <td>300</td>\n",
       "      <td>12</td>\n",
       "      <td>0</td>\n",
       "      <td>0</td>\n",
       "      <td>4</td>\n",
       "      <td>1</td>\n",
       "      <td>6</td>\n",
       "      <td>91</td>\n",
       "    </tr>\n",
       "    <tr>\n",
       "      <th>45</th>\n",
       "      <td>0</td>\n",
       "      <td>278</td>\n",
       "      <td>18</td>\n",
       "      <td>0</td>\n",
       "      <td>0</td>\n",
       "      <td>4</td>\n",
       "      <td>1</td>\n",
       "      <td>6</td>\n",
       "      <td>66</td>\n",
       "    </tr>\n",
       "    <tr>\n",
       "      <th>28</th>\n",
       "      <td>3</td>\n",
       "      <td>166</td>\n",
       "      <td>13</td>\n",
       "      <td>0</td>\n",
       "      <td>0</td>\n",
       "      <td>2</td>\n",
       "      <td>0</td>\n",
       "      <td>2</td>\n",
       "      <td>66</td>\n",
       "    </tr>\n",
       "    <tr>\n",
       "      <th>41</th>\n",
       "      <td>0</td>\n",
       "      <td>336</td>\n",
       "      <td>3</td>\n",
       "      <td>0</td>\n",
       "      <td>0</td>\n",
       "      <td>6</td>\n",
       "      <td>3</td>\n",
       "      <td>6</td>\n",
       "      <td>119</td>\n",
       "    </tr>\n",
       "    <tr>\n",
       "      <th>37</th>\n",
       "      <td>1</td>\n",
       "      <td>230</td>\n",
       "      <td>5</td>\n",
       "      <td>0</td>\n",
       "      <td>0</td>\n",
       "      <td>3</td>\n",
       "      <td>5</td>\n",
       "      <td>3</td>\n",
       "      <td>85</td>\n",
       "    </tr>\n",
       "    <tr>\n",
       "      <th>81</th>\n",
       "      <td>13</td>\n",
       "      <td>389</td>\n",
       "      <td>26</td>\n",
       "      <td>0</td>\n",
       "      <td>2</td>\n",
       "      <td>15</td>\n",
       "      <td>0</td>\n",
       "      <td>3</td>\n",
       "      <td>163</td>\n",
       "    </tr>\n",
       "  </tbody>\n",
       "</table>\n",
       "</div>"
      ],
      "text/plain": [
       "    upon  the  state  enough  while  any  his  were   to\n",
       "39     0  300     12       0      0    4    1     6   91\n",
       "45     0  278     18       0      0    4    1     6   66\n",
       "28     3  166     13       0      0    2    0     2   66\n",
       "41     0  336      3       0      0    6    3     6  119\n",
       "37     1  230      5       0      0    3    5     3   85\n",
       "81    13  389     26       0      2   15    0     3  163"
      ]
     },
     "execution_count": 2,
     "metadata": {},
     "output_type": "execute_result"
    }
   ],
   "source": [
    "words_of_interest = ['upon', 'the', 'state', 'enough', 'while', 'any', 'his', 'were','to']\n",
    "df = pd.read_csv('data/federalist-papersNew2.csv', index_col=0)\n",
    "print(len(df))\n",
    "df[words_of_interest].sample(6)\n"
   ]
  },
  {
   "cell_type": "code",
   "execution_count": 3,
   "id": "alpha-border",
   "metadata": {},
   "outputs": [],
   "source": [
    "disputed_essays = df[df['AUTHOR'] == 'Hamilton OR Madison'].index\n",
    "assert len(disputed_essays) == 12  # there are twelve disputed essays\n",
    "# numbers widely used to identify the essays\n",
    "assert set(disputed_essays) == {49, 50, 51, 52, 53, 54, 55, 56, 57, 58, 62, 63}"
   ]
  },
  {
   "cell_type": "code",
   "execution_count": 4,
   "id": "conscious-burke",
   "metadata": {},
   "outputs": [
    {
     "name": "stdout",
     "output_type": "stream",
     "text": [
      "Hamilton    51\n",
      "Madison     14\n",
      "Name: AUTHOR, dtype: int64\n"
     ]
    }
   ],
   "source": [
    "df_known = df.loc[df['AUTHOR'].isin(('Hamilton', 'Madison'))]\n",
    "print(df_known['AUTHOR'].value_counts())"
   ]
  },
  {
   "cell_type": "code",
   "execution_count": 5,
   "id": "prospective-inventory",
   "metadata": {},
   "outputs": [
    {
     "data": {
      "text/plain": [
       "AUTHOR\n",
       "Hamilton    374\n",
       "Madison       7\n",
       "Name: upon, dtype: int64"
      ]
     },
     "execution_count": 5,
     "metadata": {},
     "output_type": "execute_result"
    }
   ],
   "source": [
    "# df_known.groupby('AUTHOR')['upon'].head()\n",
    "# df_known.groupby('AUTHOR')['upon'].tail()\n",
    "df_known.groupby('AUTHOR')['upon'].sum()"
   ]
  },
  {
   "cell_type": "markdown",
   "id": "determined-cologne",
   "metadata": {},
   "source": [
    "#### Q1. Considering the words ‘to’, ‘upon’ and ‘would’, draw a graph representing the occurrences of those words in Hamilton and Madison’s articles."
   ]
  },
  {
   "cell_type": "code",
   "execution_count": 6,
   "id": "mighty-douglas",
   "metadata": {},
   "outputs": [
    {
     "data": {
      "image/png": "[encoded data removed]",
      "text/plain": [
       "<Figure size 432x288 with 1 Axes>"
      ]
     },
     "metadata": {
      "needs_background": "light"
     },
     "output_type": "display_data"
    },
    {
     "data": {
      "image/png": "[encoded data removed]",
      "text/plain": [
       "<Figure size 432x288 with 1 Axes>"
      ]
     },
     "metadata": {
      "needs_background": "light"
     },
     "output_type": "display_data"
    },
    {
     "data": {
      "image/png": "[encoded data removed]",
      "text/plain": [
       "<Figure size 432x288 with 1 Axes>"
      ]
     },
     "metadata": {
      "needs_background": "light"
     },
     "output_type": "display_data"
    }
   ],
   "source": [
    "for word in ['upon','to','would']:\n",
    "    \n",
    "    maxwordcount = df_known[word].max()\n",
    "    df_known.groupby('AUTHOR')[word].plot.hist(rwidth=0.7,alpha=0.5, range=(0, maxwordcount), legend=True)\n",
    "    plt.title(word)\n",
    "    plt.xlabel('Number of occurances of word \"{}\" in an article'.format(word))\n",
    "    plt.ylabel('Document frequency')\n",
    "\n",
    "    plt.show()\n"
   ]
  },
  {
   "cell_type": "markdown",
   "id": "annual-arbor",
   "metadata": {},
   "source": [
    "#### Q2. With these three words, model them as a binomial to reflect either occurrences in Hamilton or Madison’s writing style."
   ]
  },
  {
   "cell_type": "markdown",
   "id": "wicked-minnesota",
   "metadata": {},
   "source": [
    "#### Binomial distribution for 3 words for Hamilton papers"
   ]
  },
  {
   "cell_type": "code",
   "execution_count": 16,
   "id": "ignored-rainbow",
   "metadata": {},
   "outputs": [],
   "source": [
    "for word in ['upon','to', 'would']:\n",
    "    \n",
    "    maxwordcount = df_known[word].max()\n",
    "    df_known[df_known['AUTHOR'] == 'Hamilton'][word].hist(rwidth=0.7,alpha=0.5, range=(0, maxwordcount), bins=10, legend=True)\n",
    "    plt.title(word)\n",
    "    plt.xlabel('Number of occurances of word \"{}\" in an article'.format(word))\n",
    "    plt.ylabel('Document frequency')\n",
    "\n",
    "    total = df[df['AUTHOR'] == 'Hamilton'][word].sum()\n",
    "    mean = df[df['AUTHOR'] == 'Hamilton'][word].mean()\n",
    "    p = mean/ maxwordcount\n",
    "    #print(total,p, mean) \n",
    "\n",
    "    fig, ax = plt.subplots()    \n",
    "    n = 10\n",
    "    x = np.arange(0, 10)\n",
    "    ax.plot(x, binom.pmf(x, n, p), 'bo', ms=12, label='binom pmf')\n",
    "    #ax.set_title(label = \"Binomial plot for {} word\".format(word) , loc=’center’, pad=None, **kwargs)\n",
    "    ax.vlines(x, 0, binom.pmf(x, n, p), colors='b', lw=2, alpha=0.2)\n",
    "\n",
    "    plt.show()"
   ]
  },
  {
   "cell_type": "markdown",
   "id": "federal-machinery",
   "metadata": {},
   "source": [
    "#### Binomial distribution for 3 words for Madison papers"
   ]
  },
  {
   "cell_type": "code",
   "execution_count": 8,
   "id": "floppy-roommate",
   "metadata": {},
   "outputs": [
    {
     "name": "stdout",
     "output_type": "stream",
     "text": [
      "7 0.025 0.5\n"
     ]
    },
    {
     "data": {
      "image/png": "[encoded data removed]",
      "text/plain": [
       "<Figure size 432x288 with 1 Axes>"
      ]
     },
     "metadata": {
      "needs_background": "light"
     },
     "output_type": "display_data"
    },
    {
     "data": {
      "image/png": "[encoded data removed]",
      "text/plain": [
       "<Figure size 432x288 with 1 Axes>"
      ]
     },
     "metadata": {
      "needs_background": "light"
     },
     "output_type": "display_data"
    },
    {
     "name": "stdout",
     "output_type": "stream",
     "text": [
      "1261 0.4112850619699935 90.07142857142857\n"
     ]
    },
    {
     "data": {
      "image/png": "[encoded data removed]",
      "text/plain": [
       "<Figure size 432x288 with 1 Axes>"
      ]
     },
     "metadata": {
      "needs_background": "light"
     },
     "output_type": "display_data"
    },
    {
     "data": {
      "image/png": "[encoded data removed]",
      "text/plain": [
       "<Figure size 432x288 with 1 Axes>"
      ]
     },
     "metadata": {
      "needs_background": "light"
     },
     "output_type": "display_data"
    },
    {
     "name": "stdout",
     "output_type": "stream",
     "text": [
      "159 0.22268907563025211 11.357142857142858\n"
     ]
    },
    {
     "data": {
      "image/png": "[encoded data removed]",
      "text/plain": [
       "<Figure size 432x288 with 1 Axes>"
      ]
     },
     "metadata": {
      "needs_background": "light"
     },
     "output_type": "display_data"
    },
    {
     "data": {
      "image/png": "[encoded data removed]",
      "text/plain": [
       "<Figure size 432x288 with 1 Axes>"
      ]
     },
     "metadata": {
      "needs_background": "light"
     },
     "output_type": "display_data"
    }
   ],
   "source": [
    "for word in ['upon','to', 'would']:\n",
    "    \n",
    "    maxwordcount = df_known[word].max()\n",
    "    df_known[df_known['AUTHOR'] == 'Madison'][word].hist(rwidth=0.7,alpha=0.5, range=(0, maxwordcount), bins=10, legend=True)\n",
    "    plt.title(word)\n",
    "    plt.xlabel('Number of occurances of word \"{}\" in an article'.format(word))\n",
    "    plt.ylabel('Document frequency')\n",
    "\n",
    "    total = df[df['AUTHOR'] == 'Madison'][word].sum()\n",
    "    mean = df[df['AUTHOR'] == 'Madison'][word].mean()\n",
    "    p = mean/ maxwordcount\n",
    "    print(total,p, mean) \n",
    "\n",
    "    fig, ax = plt.subplots()    \n",
    "    n = 10\n",
    "    x = np.arange(0, 10)\n",
    "    ax.plot(x, binom.pmf(x, n, p), 'bo', ms=12, label='binom pmf')\n",
    "    ax.vlines(x, 0, binom.pmf(x, n, p), colors='b', lw=2, alpha=0.2)\n",
    "\n",
    "    plt.show()"
   ]
  },
  {
   "cell_type": "markdown",
   "id": "complicated-promise",
   "metadata": {},
   "source": [
    "#### Q3. Represent with a histogram the article length. Does it make sense to view this distribution as a Gaussian?\n",
    "\n",
    "Yes, as below plotted graph we can view the artical length distribution as a Gaussian"
   ]
  },
  {
   "cell_type": "code",
   "execution_count": 9,
   "id": "military-burst",
   "metadata": {},
   "outputs": [
    {
     "name": "stdout",
     "output_type": "stream",
     "text": [
      "Original Cols length: 11501\n",
      "Processed word tokens length: 11275\n"
     ]
    }
   ],
   "source": [
    "print(\"Original Cols length: {}\".format(len(df.columns)))\n",
    "\n",
    "all_word_cols = []\n",
    "for col in df.columns:\n",
    "    k= re.findall('[a-z]+', col,re.I)\n",
    "    if k != []:\n",
    "        all_word_cols.append(col)\n",
    "print(\"Processed word tokens length: {}\".format(len(all_word_cols)))"
   ]
  },
  {
   "cell_type": "code",
   "execution_count": 10,
   "id": "mysterious-joining",
   "metadata": {},
   "outputs": [
    {
     "name": "stdout",
     "output_type": "stream",
     "text": [
      "(85, 11275)\n",
      "1     1620\n",
      "2     1673\n",
      "3     1449\n",
      "4     1645\n",
      "5     1347\n",
      "      ... \n",
      "81    3924\n",
      "82    1549\n",
      "83    5848\n",
      "84    4191\n",
      "85    2714\n",
      "Length: 85, dtype: int64\n"
     ]
    },
    {
     "data": {
      "image/png": "[encoded data removed]",
      "text/plain": [
       "<Figure size 432x288 with 2 Axes>"
      ]
     },
     "metadata": {
      "needs_background": "light"
     },
     "output_type": "display_data"
    }
   ],
   "source": [
    "edited_rows = df[all_word_cols]\n",
    "print(edited_rows.shape)\n",
    "#edited_rows.head()\n",
    "count_of_tokens = edited_rows.sum(axis=1)\n",
    "print(count_of_tokens)\n",
    "count_of_tokens.plot(x= df, kind ='hist', density=True)\n",
    "\n",
    "count_of_tokens.plot(kind='kde', secondary_y=True)\n",
    "\n",
    "plt.title(\"Gaussian Distribution of Closing price\")\n",
    "plt.show()"
   ]
  },
  {
   "cell_type": "markdown",
   "id": "posted-charge",
   "metadata": {},
   "source": [
    "### Problem 2: Processing the text"
   ]
  },
  {
   "cell_type": "code",
   "execution_count": 11,
   "id": "configured-basin",
   "metadata": {},
   "outputs": [
    {
     "data": {
      "text/html": [
       "<div>\n",
       "<style scoped>\n",
       "    .dataframe tbody tr th:only-of-type {\n",
       "        vertical-align: middle;\n",
       "    }\n",
       "\n",
       "    .dataframe tbody tr th {\n",
       "        vertical-align: top;\n",
       "    }\n",
       "\n",
       "    .dataframe thead th {\n",
       "        text-align: right;\n",
       "    }\n",
       "</style>\n",
       "<table border=\"1\" class=\"dataframe\">\n",
       "  <thead>\n",
       "    <tr style=\"text-align: right;\">\n",
       "      <th></th>\n",
       "      <th>type</th>\n",
       "      <th>text</th>\n",
       "    </tr>\n",
       "  </thead>\n",
       "  <tbody>\n",
       "    <tr>\n",
       "      <th>0</th>\n",
       "      <td>ham</td>\n",
       "      <td>Hope you are having a good week. Just checking in</td>\n",
       "    </tr>\n",
       "    <tr>\n",
       "      <th>1</th>\n",
       "      <td>ham</td>\n",
       "      <td>K..give back my thanks.</td>\n",
       "    </tr>\n",
       "    <tr>\n",
       "      <th>2</th>\n",
       "      <td>ham</td>\n",
       "      <td>Am also doing in cbe only. But have to pay.</td>\n",
       "    </tr>\n",
       "    <tr>\n",
       "      <th>3</th>\n",
       "      <td>spam</td>\n",
       "      <td>complimentary 4 STAR Ibiza Holiday or £10,000 ...</td>\n",
       "    </tr>\n",
       "    <tr>\n",
       "      <th>4</th>\n",
       "      <td>spam</td>\n",
       "      <td>okmail: Dear Dave this is your final notice to...</td>\n",
       "    </tr>\n",
       "  </tbody>\n",
       "</table>\n",
       "</div>"
      ],
      "text/plain": [
       "   type                                               text\n",
       "0   ham  Hope you are having a good week. Just checking in\n",
       "1   ham                            K..give back my thanks.\n",
       "2   ham        Am also doing in cbe only. But have to pay.\n",
       "3  spam  complimentary 4 STAR Ibiza Holiday or £10,000 ...\n",
       "4  spam  okmail: Dear Dave this is your final notice to..."
      ]
     },
     "execution_count": 11,
     "metadata": {},
     "output_type": "execute_result"
    }
   ],
   "source": [
    "# Loading sms_spam.csv file\n",
    "sms_text = pd.read_csv('corpus/sms_spam.csv', delimiter=\",\")\n",
    "sms_text.head(5)"
   ]
  },
  {
   "cell_type": "markdown",
   "id": "informational-energy",
   "metadata": {},
   "source": [
    "#### Q1. Transform the text to lowercase"
   ]
  },
  {
   "cell_type": "code",
   "execution_count": 12,
   "id": "personal-prize",
   "metadata": {},
   "outputs": [
    {
     "name": "stdout",
     "output_type": "stream",
     "text": [
      "Length of tokens in sms_text['text'] : 5559\n",
      "    type                                               text\n",
      "0    ham  hope you are having a good week. just checking in\n",
      "1    ham                            k..give back my thanks.\n",
      "2    ham        am also doing in cbe only. but have to pay.\n",
      "3   spam  complimentary 4 star ibiza holiday or £10,000 ...\n",
      "4   spam  okmail: dear dave this is your final notice to...\n",
      "5    ham  aiya we discuss later lar... pick u up at 4 is...\n",
      "6    ham                             are you this much buzy\n",
      "7    ham                    please ask mummy to call father\n",
      "8   spam  marvel mobile play the official ultimate spide...\n",
      "9    ham     fyi i'm at usf now, swing by the room whenever\n",
      "10   ham  sure thing big man. i have hockey elections at...\n",
      "11   ham                                  i anything lor...\n",
      "12   ham  by march ending, i should be ready. but will c...\n",
      "13   ham                             hmm well, night night \n",
      "14   ham  k i'll be sure to get up before noon and see w...\n",
      "15   ham             ha ha cool cool chikku chikku:-):-db-)\n",
      "16   ham  darren was saying dat if u meeting da ge den w...\n",
      "17   ham  he dint tell anything. he is angry on me that ...\n",
      "18   ham  up to u... u wan come then come lor... but i d...\n",
      "19  spam  u can win £100 of music gift vouchers every we...\n"
     ]
    }
   ],
   "source": [
    "sms_text_lower = sms_text.copy()\n",
    "sms_text_lower['text'] = sms_text_lower['text'].str.lower()\n",
    "print(\"Length of tokens in sms_text['text'] : {}\".format(len(sms_text_lower['text'])))\n",
    "print(sms_text_lower.head(20))"
   ]
  },
  {
   "cell_type": "markdown",
   "id": "perfect-suspect",
   "metadata": {},
   "source": [
    "#### Q2. Normalize the tokens (replace the English contraction by their equivalent such ‘can’t’ -> ‘can not’)"
   ]
  },
  {
   "cell_type": "code",
   "execution_count": 13,
   "id": "infectious-racing",
   "metadata": {},
   "outputs": [
    {
     "name": "stdout",
     "output_type": "stream",
     "text": [
      "['am not / are not', 'are not / am not', 'cannot', 'cannot have', 'because', 'could have', 'could not', 'could not have', 'did not', 'does not', 'do not', 'had not', 'had not have', 'has not', 'have not', 'he had / he would', 'he would have', 'he shall / he will', 'he shall have / he will have', 'he has / he is', 'how did', 'how do you', 'how will', 'how has / how is', 'I had / I would', 'I would have', 'I shall / I will', 'I shall have / I will have', 'I am', 'I have', 'is not', 'it had / it would', 'it would have', 'it shall / it will', 'it shall have / it will have', 'it has / it is', 'let us', 'madam', 'may not', 'might have', 'might not', 'might not have', 'must have', 'must not', 'must not have', 'need not', 'need not have', 'of the clock', 'ought not', 'ought not have', 'shall not', 'shall not', 'shall not have', 'she had / she would', 'she would have', 'she shall / she will', 'she shall have / she will have', 'she has / she is', 'should have', 'should not', 'should not have', 'so have', 'so as / so is', 'that would / that had', 'that would have', 'that has / that is', 'there had / there would', 'there would have', 'there has / there is', 'they had / they would', 'they would have', 'they shall / they will', 'they shall have / they will have', 'they are', 'they have', 'to have', 'was not', 'we had / we would', 'we would have', 'we will', 'we will have', 'we are', 'we have', 'were not', 'what shall / what will', 'what shall have / what will have', 'what are', 'what has / what is', 'what have', 'when has / when is', 'when have', 'where did', 'where has / where is', 'where have', 'who shall / who will', 'who shall have / who will have', 'who has / who is', 'who have', 'why has / why is', 'why have', 'will have', 'will not', 'will not have', 'would have', 'would not', 'would not have', 'you all', 'you all would', 'you all would have', 'you all are', 'you all have', 'you had / you would', 'you would have', 'you shall / you will', 'you shall have / you will have', 'you are', 'you have']"
     ]
    },
    {
     "name": "stderr",
     "output_type": "stream",
     "text": [
      "IOPub data rate exceeded.\n",
      "The notebook server will temporarily stop sending output\n",
      "to the client in order to avoid crashing it.\n",
      "To change this limit, set the config variable\n",
      "`--NotebookApp.iopub_data_rate_limit`.\n",
      "\n",
      "Current values:\n",
      "NotebookApp.iopub_data_rate_limit=1000000.0 (bytes/sec)\n",
      "NotebookApp.rate_limit_window=3.0 (secs)\n",
      "\n"
     ]
    }
   ],
   "source": [
    "contractions = {\n",
    "\"ain't\": \"am not / are not\",\n",
    "\"aren't\": \"are not / am not\",\n",
    "\"can't\": \"cannot\",\n",
    "\"can't've\": \"cannot have\",\n",
    "\"'cause\": \"because\",\n",
    "\"could've\": \"could have\",\n",
    "\"couldn't\": \"could not\",\n",
    "\"couldn't've\": \"could not have\",\n",
    "\"didn't\": \"did not\",\n",
    "\"doesn't\": \"does not\",\n",
    "\"don't\": \"do not\",\n",
    "\"hadn't\": \"had not\",\n",
    "\"hadn't've\": \"had not have\",\n",
    "\"hasn't\": \"has not\",\n",
    "\"haven't\": \"have not\",\n",
    "\"he'd\": \"he had / he would\",\n",
    "\"he'd've\": \"he would have\",\n",
    "\"he'll\": \"he shall / he will\",\n",
    "\"he'll've\": \"he shall have / he will have\",\n",
    "\"he's\": \"he has / he is\",\n",
    "\"how'd\": \"how did\",\n",
    "\"how'd'y\": \"how do you\",\n",
    "\"how'll\": \"how will\",\n",
    "\"how's\": \"how has / how is\",\n",
    "\"i'd\": \"I had / I would\",\n",
    "\"i'd've\": \"I would have\",\n",
    "\"i'll\": \"I shall / I will\",\n",
    "\"i'll've\": \"I shall have / I will have\",\n",
    "\"i'm\": \"I am\",\n",
    "\"i've\": \"I have\",\n",
    "\"isn't\": \"is not\",\n",
    "\"it'd\": \"it had / it would\",\n",
    "\"it'd've\": \"it would have\",\n",
    "\"it'll\": \"it shall / it will\",\n",
    "\"it'll've\": \"it shall have / it will have\",\n",
    "\"it's\": \"it has / it is\",\n",
    "\"let's\": \"let us\",\n",
    "\"ma'am\": \"madam\",\n",
    "\"mayn't\": \"may not\",\n",
    "\"might've\": \"might have\",\n",
    "\"mightn't\": \"might not\",\n",
    "\"mightn't've\": \"might not have\",\n",
    "\"must've\": \"must have\",\n",
    "\"mustn't\": \"must not\",\n",
    "\"mustn't've\": \"must not have\",\n",
    "\"needn't\": \"need not\",\n",
    "\"needn't've\": \"need not have\",\n",
    "\"o'clock\": \"of the clock\",\n",
    "\"oughtn't\": \"ought not\",\n",
    "\"oughtn't've\": \"ought not have\",\n",
    "\"shan't\": \"shall not\",\n",
    "\"sha'n't\": \"shall not\",\n",
    "\"shan't've\": \"shall not have\",\n",
    "\"she'd\": \"she had / she would\",\n",
    "\"she'd've\": \"she would have\",\n",
    "\"she'll\": \"she shall / she will\",\n",
    "\"she'll've\": \"she shall have / she will have\",\n",
    "\"she's\": \"she has / she is\",\n",
    "\"should've\": \"should have\",\n",
    "\"shouldn't\": \"should not\",\n",
    "\"shouldn't've\": \"should not have\",\n",
    "\"so've\": \"so have\",\n",
    "\"so's\": \"so as / so is\",\n",
    "\"that'd\": \"that would / that had\",\n",
    "\"that'd've\": \"that would have\",\n",
    "\"that's\": \"that has / that is\",\n",
    "\"there'd\": \"there had / there would\",\n",
    "\"there'd've\": \"there would have\",\n",
    "\"there's\": \"there has / there is\",\n",
    "\"they'd\": \"they had / they would\",\n",
    "\"they'd've\": \"they would have\",\n",
    "\"they'll\": \"they shall / they will\",\n",
    "\"they'll've\": \"they shall have / they will have\",\n",
    "\"they're\": \"they are\",\n",
    "\"they've\": \"they have\",\n",
    "\"to've\": \"to have\",\n",
    "\"wasn't\": \"was not\",\n",
    "\"we'd\": \"we had / we would\",\n",
    "\"we'd've\": \"we would have\",\n",
    "\"we'll\": \"we will\",\n",
    "\"we'll've\": \"we will have\",\n",
    "\"we're\": \"we are\",\n",
    "\"we've\": \"we have\",\n",
    "\"weren't\": \"were not\",\n",
    "\"what'll\": \"what shall / what will\",\n",
    "\"what'll've\": \"what shall have / what will have\",\n",
    "\"what're\": \"what are\",\n",
    "\"what's\": \"what has / what is\",\n",
    "\"what've\": \"what have\",\n",
    "\"when's\": \"when has / when is\",\n",
    "\"when've\": \"when have\",\n",
    "\"where'd\": \"where did\",\n",
    "\"where's\": \"where has / where is\",\n",
    "\"where've\": \"where have\",\n",
    "\"who'll\": \"who shall / who will\",\n",
    "\"who'll've\": \"who shall have / who will have\",\n",
    "\"who's\": \"who has / who is\",\n",
    "\"who've\": \"who have\",\n",
    "\"why's\": \"why has / why is\",\n",
    "\"why've\": \"why have\",\n",
    "\"will've\": \"will have\",\n",
    "\"won't\": \"will not\",\n",
    "\"won't've\": \"will not have\",\n",
    "\"would've\": \"would have\",\n",
    "\"wouldn't\": \"would not\",\n",
    "\"wouldn't've\": \"would not have\",\n",
    "\"y'all\": \"you all\",\n",
    "\"y'all'd\": \"you all would\",\n",
    "\"y'all'd've\": \"you all would have\",\n",
    "\"y'all're\": \"you all are\",\n",
    "\"y'all've\": \"you all have\",\n",
    "\"you'd\": \"you had / you would\",\n",
    "\"you'd've\": \"you would have\",\n",
    "\"you'll\": \"you shall / you will\",\n",
    "\"you'll've\": \"you shall have / you will have\",\n",
    "\"you're\": \"you are\",\n",
    "\"you've\": \"you have\"\n",
    "}\n",
    "contractions_array = []\n",
    "for i, s in enumerate(sms_text['text']):\n",
    "    #token_without_not = [word for word in s.split(\" \") if word in contractions]\n",
    "    #print(token_without_not)\n",
    "    \n",
    "    for item in contractions:\n",
    "        replace_item = item.replace(item,contractions[item])\n",
    "        contractions_array.append(replace_item)\n",
    "    print(contractions_array)\n",
    "    sms_text['text'][i] = contractions_array\n",
    "print(\"Length of tokens in sms_text['text'] : {}\".format(len(sms_text['text'])))\n",
    "#sms_text.head(20)\n"
   ]
  },
  {
   "cell_type": "markdown",
   "id": "living-universe",
   "metadata": {},
   "source": [
    "#### Q3. Be able to read a list of stopwords and to remove them when they appear in the text (two such lists are given in the folder ‘Corpus’)."
   ]
  },
  {
   "cell_type": "code",
   "execution_count": null,
   "id": "copyrighted-rally",
   "metadata": {},
   "outputs": [],
   "source": [
    "# Removing special characters from a file\n",
    "stop_words_1 = np.loadtxt('corpus/stopwords.txt', dtype='str')\n",
    "sms_text1 = sms_text_lower.copy()\n",
    "\n",
    "for i,s in enumerate(sms_text1['text']):\n",
    "    only_words = re.findall(\"[\\w]+\", s)\n",
    "    sms_text1['text'][i] = only_words \n",
    "    #print(only_words)\n",
    "\n",
    "print(sms_text1)"
   ]
  },
  {
   "cell_type": "code",
   "execution_count": null,
   "id": "generous-tanzania",
   "metadata": {},
   "outputs": [],
   "source": [
    "for index,sms in enumerate(sms_text1['text']):\n",
    "    token_without_sw = [word for word in sms.split(\" \") if not word in stop_words_1]\n",
    "    sms = (\" \").join(token_without_sw)\n",
    "    sms_text1['text'][index] = sms \n",
    "sms_text1.head(5)\n"
   ]
  },
  {
   "cell_type": "code",
   "execution_count": null,
   "id": "super-steel",
   "metadata": {},
   "outputs": [],
   "source": [
    "stop_words_2 = np.loadtxt('corpus/StopwordSMART.txt', dtype='str')\n",
    "#print(stop_words_2)\n",
    "\n",
    "sms_text2 = sms_text1.copy()\n",
    "\n",
    "for index,sms in enumerate(sms_text2['text']):\n",
    "    token_without_sw = [word for word in sms.split(\" \") if not word in stop_words_2]\n",
    "    sms = (\" \").join(token_without_sw)\n",
    "    sms_text2['text'][index] = sms \n",
    "print(sms_text2.head(5))"
   ]
  },
  {
   "cell_type": "markdown",
   "id": "suburban-stephen",
   "metadata": {},
   "source": [
    "#### Q4. Apply your preprocessing to both the spam and ham SMSs. Return the top 20 most frequent word-types for both categories"
   ]
  },
  {
   "cell_type": "code",
   "execution_count": null,
   "id": "rental-lithuania",
   "metadata": {},
   "outputs": [],
   "source": [
    "ham_tokens = sms_text2.loc[sms_text2['type'] == 'ham']\n",
    "print(\"Total hams: \",len(ham_tokens))\n",
    "print(ham_tokens['text'].head(5))\n",
    "spam_tokens = sms_text2.loc[sms_text2['type'] == 'spam']\n",
    "print(\"Total Spams:\",len(spam_tokens))"
   ]
  },
  {
   "cell_type": "markdown",
   "id": "south-sector",
   "metadata": {},
   "source": [
    "#### 20 most frequent word-types for \"ham\" categories"
   ]
  },
  {
   "cell_type": "code",
   "execution_count": null,
   "id": "muslim-parts",
   "metadata": {},
   "outputs": [],
   "source": [
    " \n",
    "words_all = []\n",
    "\n",
    "for i, words in enumerate(ham_tokens['text']):\n",
    "    total_words = words.split(\" \")\n",
    "    for w in total_words: \n",
    "        words_all.append(w)\n",
    "        \n",
    "words_dict = Counter(words_all)\n",
    "dict_sorted = {k: v for k, v in sorted(words_dict.items(), key=lambda item: item[1], reverse=True)}\n",
    "print(list(dict_sorted.keys())[:20])\n",
    "\n",
    "\n",
    "        "
   ]
  },
  {
   "cell_type": "markdown",
   "id": "adjusted-williams",
   "metadata": {},
   "source": [
    "#### 20 most frequent word-types for \"spam\" categories"
   ]
  },
  {
   "cell_type": "code",
   "execution_count": null,
   "id": "renewable-begin",
   "metadata": {},
   "outputs": [],
   "source": [
    "words_all_spam = []\n",
    "\n",
    "for i, words_spam in enumerate(spam_tokens['text']):\n",
    "    total_words = words_spam.split(\" \")\n",
    "    for w in total_words: \n",
    "        words_all_spam.append(w)\n",
    "        \n",
    "words_dict = Counter(words_all_spam)\n",
    "dict_sorted = {k: v for k, v in sorted(words_dict.items(), key=lambda item: item[1], reverse=True)}\n",
    "print(list(dict_sorted.keys())[:20])"
   ]
  },
  {
   "cell_type": "code",
   "execution_count": null,
   "id": "affected-employment",
   "metadata": {},
   "outputs": [],
   "source": []
  }
 ],
 "metadata": {
  "kernelspec": {
   "display_name": "Python 3",
   "language": "python",
   "name": "python3"
  },
  "language_info": {
   "codemirror_mode": {
    "name": "ipython",
    "version": 3
   },
   "file_extension": ".py",
   "mimetype": "text/x-python",
   "name": "python",
   "nbconvert_exporter": "python",
   "pygments_lexer": "ipython3",
   "version": "3.7.9"
  }
 },
 "nbformat": 4,
 "nbformat_minor": 5
}
