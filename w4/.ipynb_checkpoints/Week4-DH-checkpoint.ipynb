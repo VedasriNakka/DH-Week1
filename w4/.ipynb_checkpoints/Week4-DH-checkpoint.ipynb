{
 "cells": [
  {
   "cell_type": "markdown",
   "id": "major-office",
   "metadata": {},
   "source": [
    "### Week 4 - Digital Humanities"
   ]
  },
  {
   "cell_type": "code",
   "execution_count": 2,
   "id": "global-boston",
   "metadata": {},
   "outputs": [],
   "source": [
    "import re\n",
    "import numpy as np\n",
    "import pandas as pd"
   ]
  },
  {
   "cell_type": "code",
   "execution_count": 16,
   "id": "behind-arrow",
   "metadata": {},
   "outputs": [
    {
     "data": {
      "text/plain": [
       "'Alice plays the role with Mary and Annie'"
      ]
     },
     "execution_count": 16,
     "metadata": {},
     "output_type": "execute_result"
    }
   ],
   "source": [
    "re.sub('^Ann', 'Alice','Ann plays the role with Mary and Annie')\n",
    "#re.sub('Ann\\s', 'Alice',file)"
   ]
  },
  {
   "cell_type": "code",
   "execution_count": 52,
   "id": "commercial-opinion",
   "metadata": {},
   "outputs": [
    {
     "data": {
      "text/plain": [
       "'$99. to $87. or Fr.75.'"
      ]
     },
     "execution_count": 52,
     "metadata": {},
     "output_type": "execute_result"
    }
   ],
   "source": [
    "#aPat = '([0-9]*)\\.([0-9]*)'\n",
    "aPat = '(?<=[\\d+])\\.\\d+' # \\b\\w+(?<!s)\\b\n",
    "\n",
    "re.sub(aPat ,'.','$99.99 to $87.80 or Fr.75.50')"
   ]
  },
  {
   "cell_type": "code",
   "execution_count": 62,
   "id": "vocal-composer",
   "metadata": {},
   "outputs": [
    {
     "data": {
      "text/plain": [
       "<tarfile.TarFile at 0x2c05a388>"
      ]
     },
     "execution_count": 62,
     "metadata": {},
     "output_type": "execute_result"
    }
   ],
   "source": [
    "import os\n",
    "import lxml.etree\n",
    "import tarfile\n",
    "import collections\n",
    "import matplotlib.pyplot as plt\n",
    "\n",
    "tf = tarfile.open('./theatre-classique.tar.gz','r')\n",
    "tf.extractall('data')\n",
    "tf"
   ]
  },
  {
   "cell_type": "code",
   "execution_count": 57,
   "id": "faced-allowance",
   "metadata": {},
   "outputs": [],
   "source": [
    "subgenres = ('Comédie', 'Tragédie', 'Tragi-comédie')\n",
    "#print(subgenres)\n",
    "plays, titles, genres = [], [], []\n",
    "authors, years = [],[]"
   ]
  },
  {
   "cell_type": "code",
   "execution_count": 58,
   "id": "accepting-medicaid",
   "metadata": {},
   "outputs": [],
   "source": [
    "for fn in os.scandir('data/theatre-classique'):\n",
    "    # Only include XML files\n",
    "    if not fn.name.endswith('.xml'):\n",
    "        continue\n",
    "    tree   = lxml.etree.parse(fn.path)\n",
    "    genre  = tree.find('//genre')\n",
    "    title  = tree.find('//title')\n",
    "    author = tree.find('//author')\n",
    "    year   = tree.find('//date')\n",
    "    if genre is not None and genre.text in subgenres:\n",
    "        lines = []\n",
    "        for line in tree.xpath('//l|//p'):\n",
    "            lines.append(' '.join(line.itertext()))\n",
    "        text = '\\n'.join(lines)\n",
    "        plays.append(text)\n",
    "        genres.append(genre.text)\n",
    "        titles.append(title.text)\n",
    "        authors.append(author.text)\n",
    "        if year is not None:\n",
    "            years.append(year.text)\n",
    "            "
   ]
  },
  {
   "cell_type": "code",
   "execution_count": 59,
   "id": "higher-gauge",
   "metadata": {},
   "outputs": [
    {
     "name": "stdout",
     "output_type": "stream",
     "text": [
      "498 498 498 498 208\n"
     ]
    }
   ],
   "source": [
    "print(len(plays), len(genres), len(titles), len(authors), len(years))"
   ]
  },
  {
   "cell_type": "code",
   "execution_count": 60,
   "id": "other-mailman",
   "metadata": {},
   "outputs": [
    {
     "name": "stdout",
     "output_type": "stream",
     "text": [
      "Total no. of genres:  Counter({'Comédie': 310, 'Tragédie': 150, 'Tragi-comédie': 38})\n"
     ]
    }
   ],
   "source": [
    "counts = collections.Counter(genres)\n",
    "print(\"Total no. of genres: \",counts)"
   ]
  },
  {
   "cell_type": "code",
   "execution_count": null,
   "id": "specified-argentina",
   "metadata": {},
   "outputs": [],
   "source": []
  }
 ],
 "metadata": {
  "kernelspec": {
   "display_name": "Python 3",
   "language": "python",
   "name": "python3"
  },
  "language_info": {
   "codemirror_mode": {
    "name": "ipython",
    "version": 3
   },
   "file_extension": ".py",
   "mimetype": "text/x-python",
   "name": "python",
   "nbconvert_exporter": "python",
   "pygments_lexer": "ipython3",
   "version": "3.7.9"
  }
 },
 "nbformat": 4,
 "nbformat_minor": 5
}
