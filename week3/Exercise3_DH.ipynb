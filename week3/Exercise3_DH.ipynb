{
 "cells": [
  {
   "cell_type": "markdown",
   "id": "electronic-search",
   "metadata": {},
   "source": [
    "### Exercise 3: Digital Humanities"
   ]
  },
  {
   "cell_type": "code",
   "execution_count": 34,
   "id": "floppy-collar",
   "metadata": {},
   "outputs": [],
   "source": [
    "import re\n",
    "import pandas as pd\n",
    "import numpy as np\n",
    "import matplotlib.pyplot as plt\n",
    "from yellowbrick.text import DispersionPlot"
   ]
  },
  {
   "cell_type": "code",
   "execution_count": 35,
   "id": "behind-cycling",
   "metadata": {},
   "outputs": [
    {
     "name": "stdout",
     "output_type": "stream",
     "text": [
      "The Project Gutenberg EBook of Moby Dick; or The Whale, by Herman Melville\n",
      "\n",
      "This eBook is for the use of anyone anywhere at no cost and with\n",
      "almost no restrictions whatsoever.  You may copy it, give it away or\n",
      "re-use it under the terms of the Project Gutenberg License included\n",
      "with this eBook or onl\n"
     ]
    }
   ],
   "source": [
    "file_path = '../week3/MobyDick.txt'\n",
    "\n",
    "with open(file_path) as stream:\n",
    "    file = stream.read()\n",
    "\n",
    "print(file[:300])"
   ]
  },
  {
   "cell_type": "markdown",
   "id": "compatible-minority",
   "metadata": {},
   "source": [
    "### Q1. distinct word-tokens count in this novel?"
   ]
  },
  {
   "cell_type": "code",
   "execution_count": 45,
   "id": "infinite-filename",
   "metadata": {},
   "outputs": [
    {
     "name": "stdout",
     "output_type": "stream",
     "text": [
      "Total 221908 number words present in MobyDick file \n",
      "\n",
      "['The', 'Project', 'Gutenberg', 'EBook', 'of', 'Moby', 'Dick', 'or', 'The', 'Whale', 'by', 'Herman', 'Melville', 'This', 'eBook', 'is', 'for', 'the', 'use', 'of', 'anyone', 'anywhere', 'at', 'no', 'cost', 'and', 'with', 'almost', 'no', 'restrictions', 'whatsoever', 'You', 'may', 'copy', 'it', 'give', 'it', 'away', 'or', 're', 'use', 'it', 'under', 'the', 'terms', 'of', 'the', 'Project', 'Gutenberg', 'License']\n",
      "['The' 'Project' 'Gutenberg' 'EBook' 'of' 'Moby' 'Dick' 'or' 'The' 'Whale'\n",
      " 'by' 'Herman' 'Melville' 'This' 'eBook' 'is' 'for' 'the' 'use' 'of'\n",
      " 'anyone' 'anywhere' 'at' 'no' 'cost' 'and' 'with' 'almost' 'no'\n",
      " 'restrictions' 'whatsoever' 'You' 'may' 'copy' 'it' 'give' 'it' 'away'\n",
      " 'or' 're' 'use' 'it' 'under' 'the' 'terms' 'of' 'the' 'Project'\n",
      " 'Gutenberg' 'License']\n"
     ]
    }
   ],
   "source": [
    "total_words = re.findall('[\\w]+',file )\n",
    "\n",
    "print(\"Total {} number words present in MobyDick file \\n\".format(len(total_words)))\n",
    "\n",
    "print(total_words[0:50])\n",
    "a = np.array(total_words)\n",
    "print(a[0:50])"
   ]
  },
  {
   "cell_type": "markdown",
   "id": "historic-champion",
   "metadata": {},
   "source": [
    "### Q2. Vocabulary size of novel"
   ]
  },
  {
   "cell_type": "code",
   "execution_count": 46,
   "id": "inner-layout",
   "metadata": {},
   "outputs": [
    {
     "name": "stdout",
     "output_type": "stream",
     "text": [
      "Unique elements: 19545\n"
     ]
    }
   ],
   "source": [
    "#unique_words = set(re.findall('[\\w]+',total_words,re.I))\n",
    "unique_words = set(re.findall('\\w+', str(total_words), re.UNICODE))\n",
    "\n",
    "print(\"Unique elements: {}\".format(len(unique_words)))"
   ]
  },
  {
   "cell_type": "markdown",
   "id": "legislative-andrew",
   "metadata": {},
   "source": [
    "### Q3. Number of occurance of word \"Swiss\""
   ]
  },
  {
   "cell_type": "code",
   "execution_count": 47,
   "id": "interested-elements",
   "metadata": {},
   "outputs": [
    {
     "name": "stdout",
     "output_type": "stream",
     "text": [
      "1\n"
     ]
    }
   ],
   "source": [
    "swiss = re.findall('swiss', str(total_words), re.I )\n",
    "\n",
    "print(len(swiss))"
   ]
  },
  {
   "cell_type": "markdown",
   "id": "endangered-parcel",
   "metadata": {},
   "source": [
    "### Q4. produce something similar with the word ‘Ahab’ (the captain name) and the string ‘whale’?"
   ]
  },
  {
   "cell_type": "code",
   "execution_count": 68,
   "id": "ranging-tunnel",
   "metadata": {},
   "outputs": [
    {
     "name": "stdout",
     "output_type": "stream",
     "text": [
      "577\n",
      "0\n",
      "0\n",
      "0\n",
      "0\n"
     ]
    }
   ],
   "source": [
    "total_ahab = re.findall('upon', str(total_words), re.I )\n",
    "\n",
    "print(len(total_ahab[0:1000]))\n",
    "print(len(total_ahab[1000:5000]))\n",
    "print(len(total_ahab[5000:10000]))\n",
    "print(len(total_ahab[10000:20000]))\n",
    "print(len(total_ahab[20000:]))"
   ]
  },
  {
   "cell_type": "code",
   "execution_count": 19,
   "id": "patient-fellowship",
   "metadata": {},
   "outputs": [
    {
     "ename": "YellowbrickValueError",
     "evalue": "No search terms were found in the corpus",
     "output_type": "error",
     "traceback": [
      "\u001b[1;31m---------------------------------------------------------------------------\u001b[0m",
      "\u001b[1;31mValueError\u001b[0m                                Traceback (most recent call last)",
      "\u001b[1;32mc:\\users\\veda\\appdata\\local\\programs\\python\\python37\\lib\\site-packages\\yellowbrick\\text\\dispersion.py\u001b[0m in \u001b[0;36mfit\u001b[1;34m(self, X, y, **kwargs)\u001b[0m\n\u001b[0;32m    223\u001b[0m         \u001b[1;32mtry\u001b[0m\u001b[1;33m:\u001b[0m\u001b[1;33m\u001b[0m\u001b[1;33m\u001b[0m\u001b[0m\n\u001b[1;32m--> 224\u001b[1;33m             \u001b[0moffsets_positions_categories\u001b[0m \u001b[1;33m=\u001b[0m \u001b[0mnp\u001b[0m\u001b[1;33m.\u001b[0m\u001b[0mstack\u001b[0m\u001b[1;33m(\u001b[0m\u001b[0mself\u001b[0m\u001b[1;33m.\u001b[0m\u001b[0m_compute_dispersion\u001b[0m\u001b[1;33m(\u001b[0m\u001b[0mX\u001b[0m\u001b[1;33m,\u001b[0m \u001b[0my\u001b[0m\u001b[1;33m)\u001b[0m\u001b[1;33m)\u001b[0m\u001b[1;33m\u001b[0m\u001b[1;33m\u001b[0m\u001b[0m\n\u001b[0m\u001b[0;32m    225\u001b[0m         \u001b[1;32mexcept\u001b[0m \u001b[0mValueError\u001b[0m\u001b[1;33m:\u001b[0m\u001b[1;33m\u001b[0m\u001b[1;33m\u001b[0m\u001b[0m\n",
      "\u001b[1;32m<__array_function__ internals>\u001b[0m in \u001b[0;36mstack\u001b[1;34m(*args, **kwargs)\u001b[0m\n",
      "\u001b[1;32mc:\\users\\veda\\appdata\\local\\programs\\python\\python37\\lib\\site-packages\\numpy\\core\\shape_base.py\u001b[0m in \u001b[0;36mstack\u001b[1;34m(arrays, axis, out)\u001b[0m\n\u001b[0;32m    422\u001b[0m     \u001b[1;32mif\u001b[0m \u001b[1;32mnot\u001b[0m \u001b[0marrays\u001b[0m\u001b[1;33m:\u001b[0m\u001b[1;33m\u001b[0m\u001b[1;33m\u001b[0m\u001b[0m\n\u001b[1;32m--> 423\u001b[1;33m         \u001b[1;32mraise\u001b[0m \u001b[0mValueError\u001b[0m\u001b[1;33m(\u001b[0m\u001b[1;34m'need at least one array to stack'\u001b[0m\u001b[1;33m)\u001b[0m\u001b[1;33m\u001b[0m\u001b[1;33m\u001b[0m\u001b[0m\n\u001b[0m\u001b[0;32m    424\u001b[0m \u001b[1;33m\u001b[0m\u001b[0m\n",
      "\u001b[1;31mValueError\u001b[0m: need at least one array to stack",
      "\nDuring handling of the above exception, another exception occurred:\n",
      "\u001b[1;31mYellowbrickValueError\u001b[0m                     Traceback (most recent call last)",
      "\u001b[1;32m<ipython-input-19-07b3a68d0b16>\u001b[0m in \u001b[0;36m<module>\u001b[1;34m\u001b[0m\n\u001b[0;32m      9\u001b[0m \u001b[1;31m# Create the visualizer and draw the plot\u001b[0m\u001b[1;33m\u001b[0m\u001b[1;33m\u001b[0m\u001b[1;33m\u001b[0m\u001b[0m\n\u001b[0;32m     10\u001b[0m \u001b[0mvisualizer\u001b[0m \u001b[1;33m=\u001b[0m \u001b[0mDispersionPlot\u001b[0m\u001b[1;33m(\u001b[0m\u001b[0mtarget_words\u001b[0m\u001b[1;33m,\u001b[0m \u001b[0mshow\u001b[0m \u001b[1;33m=\u001b[0m \u001b[1;32mTrue\u001b[0m\u001b[1;33m)\u001b[0m\u001b[1;33m\u001b[0m\u001b[1;33m\u001b[0m\u001b[0m\n\u001b[1;32m---> 11\u001b[1;33m \u001b[0mvisualizer\u001b[0m\u001b[1;33m.\u001b[0m\u001b[0mfit\u001b[0m\u001b[1;33m(\u001b[0m\u001b[0mtext\u001b[0m\u001b[1;33m)\u001b[0m\u001b[1;33m\u001b[0m\u001b[1;33m\u001b[0m\u001b[0m\n\u001b[0m\u001b[0;32m     12\u001b[0m \u001b[1;31m#visualizer.show()\u001b[0m\u001b[1;33m\u001b[0m\u001b[1;33m\u001b[0m\u001b[1;33m\u001b[0m\u001b[0m\n",
      "\u001b[1;32mc:\\users\\veda\\appdata\\local\\programs\\python\\python37\\lib\\site-packages\\yellowbrick\\text\\dispersion.py\u001b[0m in \u001b[0;36mfit\u001b[1;34m(self, X, y, **kwargs)\u001b[0m\n\u001b[0;32m    224\u001b[0m             \u001b[0moffsets_positions_categories\u001b[0m \u001b[1;33m=\u001b[0m \u001b[0mnp\u001b[0m\u001b[1;33m.\u001b[0m\u001b[0mstack\u001b[0m\u001b[1;33m(\u001b[0m\u001b[0mself\u001b[0m\u001b[1;33m.\u001b[0m\u001b[0m_compute_dispersion\u001b[0m\u001b[1;33m(\u001b[0m\u001b[0mX\u001b[0m\u001b[1;33m,\u001b[0m \u001b[0my\u001b[0m\u001b[1;33m)\u001b[0m\u001b[1;33m)\u001b[0m\u001b[1;33m\u001b[0m\u001b[1;33m\u001b[0m\u001b[0m\n\u001b[0;32m    225\u001b[0m         \u001b[1;32mexcept\u001b[0m \u001b[0mValueError\u001b[0m\u001b[1;33m:\u001b[0m\u001b[1;33m\u001b[0m\u001b[1;33m\u001b[0m\u001b[0m\n\u001b[1;32m--> 226\u001b[1;33m             \u001b[1;32mraise\u001b[0m \u001b[0mYellowbrickValueError\u001b[0m\u001b[1;33m(\u001b[0m\u001b[1;33m(\u001b[0m\u001b[1;34m\"No search terms were found in the corpus\"\u001b[0m\u001b[1;33m)\u001b[0m\u001b[1;33m)\u001b[0m\u001b[1;33m\u001b[0m\u001b[1;33m\u001b[0m\u001b[0m\n\u001b[0m\u001b[0;32m    227\u001b[0m \u001b[1;33m\u001b[0m\u001b[0m\n\u001b[0;32m    228\u001b[0m         word_positions = np.stack(\n",
      "\u001b[1;31mYellowbrickValueError\u001b[0m: No search terms were found in the corpus"
     ]
    }
   ],
   "source": [
    "#corpus = data_file\n",
    "\n",
    "# Create a list of words from the corpus text\n",
    "text = [doc.split() for doc in file]\n",
    "\n",
    "# Choose words whose occurence in the text will be plotted\n",
    "target_words = ['Ahab','whale', 'upon']\n",
    "\n",
    "# Create the visualizer and draw the plot\n",
    "visualizer = DispersionPlot(target_words, show = True)\n",
    "visualizer.fit(text)\n",
    "#visualizer.show()"
   ]
  },
  {
   "cell_type": "code",
   "execution_count": 69,
   "id": "timely-question",
   "metadata": {},
   "outputs": [
    {
     "name": "stdout",
     "output_type": "stream",
     "text": [
      "upon 568 words out of221908 \n",
      "\n"
     ]
    },
    {
     "data": {
      "image/png": "[encoded data removed]",
      "text/plain": [
       "<Figure size 1080x216 with 1 Axes>"
      ]
     },
     "metadata": {},
     "output_type": "display_data"
    }
   ],
   "source": [
    "#text = open(\"MobyDick.txt\", \"r\", encoding=\"utf-8\").read()\n",
    "#total_words = np.array(total_words)\n",
    "#words = re.split(\"\\W\", file.lower())\n",
    "#total_words = total_words.lower()\n",
    "\n",
    "words = [w.lower() for w in total_words if w != \"\"]\n",
    "#print(\"words:\", words[0:50])\n",
    "#print(len(words))\n",
    "\n",
    "WORD = 'upon'\n",
    "x=list()\n",
    "for i in range(0,len(words)): \n",
    "    if words[i] == WORD: \n",
    "        x.append(i)\n",
    "\n",
    "print(\"upon {} words out of{} \\n\".format(len(x), len(total_words)))\n",
    "#print(x)\n",
    "fig, ax = plt.subplots()\n",
    "\n",
    "ax.vlines(x, 0, 1, edgecolor=\"red\") # \n",
    "#print(len(ax))\n",
    "ax.set_xlim([0, len(total_words)])\n",
    "ax.set_xlabel('Dispersion plot')\n",
    "ax.set_xticks([0])#,minor=True) \n",
    "#ax.set_xticks([])\n",
    "ax.set_ylabel(WORD) \n",
    "ax.set_yticks([])\n",
    "\n",
    "fig.set_figheight(3) \n",
    "fig.set_figwidth(15)"
   ]
  },
  {
   "cell_type": "code",
   "execution_count": null,
   "id": "wired-macintosh",
   "metadata": {},
   "outputs": [],
   "source": []
  }
 ],
 "metadata": {
  "kernelspec": {
   "display_name": "Python 3",
   "language": "python",
   "name": "python3"
  },
  "language_info": {
   "codemirror_mode": {
    "name": "ipython",
    "version": 3
   },
   "file_extension": ".py",
   "mimetype": "text/x-python",
   "name": "python",
   "nbconvert_exporter": "python",
   "pygments_lexer": "ipython3",
   "version": "3.7.9"
  }
 },
 "nbformat": 4,
 "nbformat_minor": 5
}
