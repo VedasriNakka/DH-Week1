{
 "cells": [
  {
   "cell_type": "markdown",
   "id": "studied-laugh",
   "metadata": {},
   "source": [
    "### Exercise 3: Digital Humanities"
   ]
  },
  {
   "cell_type": "code",
   "execution_count": 2,
   "id": "quantitative-intranet",
   "metadata": {},
   "outputs": [],
   "source": [
    "import re\n",
    "import pandas as pd\n",
    "import numpy as np\n",
    "import matplotlib.pyplot as plt\n",
    "from yellowbrick.text import DispersionPlot"
   ]
  },
  {
   "cell_type": "code",
   "execution_count": 3,
   "id": "fifty-hypothetical",
   "metadata": {},
   "outputs": [
    {
     "name": "stdout",
     "output_type": "stream",
     "text": [
      "The Projec\n"
     ]
    }
   ],
   "source": [
    "file_path = './MobyDick.txt'\n",
    "\n",
    "with open(file_path) as stream:\n",
    "    file = stream.read()\n",
    "\n",
    "print(file[:10])"
   ]
  },
  {
   "cell_type": "markdown",
   "id": "opened-heaven",
   "metadata": {},
   "source": [
    "### Q1. distinct word-tokens count in this novel?"
   ]
  },
  {
   "cell_type": "code",
   "execution_count": 4,
   "id": "prospective-score",
   "metadata": {},
   "outputs": [
    {
     "name": "stdout",
     "output_type": "stream",
     "text": [
      "Total 221908 number of word-tokens present in MobyDick novel\n",
      "\n",
      "['The', 'Project', 'Gutenberg', 'EBook', 'of', 'Moby', 'Dick', 'or', 'The', 'Whale', 'by', 'Herman', 'Melville', 'This', 'eBook', 'is', 'for', 'the', 'use', 'of', 'anyone', 'anywhere', 'at', 'no', 'cost', 'and', 'with', 'almost', 'no', 'restrictions', 'whatsoever', 'You', 'may', 'copy', 'it', 'give', 'it', 'away', 'or', 're', 'use', 'it', 'under', 'the', 'terms', 'of', 'the', 'Project', 'Gutenberg', 'License']\n"
     ]
    }
   ],
   "source": [
    "total_words = re.findall('[\\w]+',file )\n",
    "\n",
    "print(\"Total {} number of word-tokens present in MobyDick novel\\n\".format(len(total_words)))\n",
    "\n",
    "print(total_words[0:50])"
   ]
  },
  {
   "cell_type": "markdown",
   "id": "authentic-yellow",
   "metadata": {},
   "source": [
    "### Q2. Vocabulary size of novel"
   ]
  },
  {
   "cell_type": "code",
   "execution_count": 5,
   "id": "elementary-ending",
   "metadata": {},
   "outputs": [
    {
     "name": "stdout",
     "output_type": "stream",
     "text": [
      "Vocabulary Size: 19545\n"
     ]
    }
   ],
   "source": [
    "unique_words = set(re.findall('\\w+', str(total_words), re.UNICODE))\n",
    "\n",
    "print(\"Vocabulary Size: {}\".format(len(unique_words)))"
   ]
  },
  {
   "cell_type": "markdown",
   "id": "vulnerable-nudist",
   "metadata": {},
   "source": [
    "### Q3. Number of occurance of word \"Swiss\""
   ]
  },
  {
   "cell_type": "code",
   "execution_count": 6,
   "id": "prospective-agent",
   "metadata": {},
   "outputs": [
    {
     "name": "stdout",
     "output_type": "stream",
     "text": [
      "No of occurances of word swiss is 1\n"
     ]
    }
   ],
   "source": [
    "occurences = re.findall('swiss', str(total_words), re.I )\n",
    "\n",
    "print(\"No of occurances of word swiss is {}\".format(len(occurences)))"
   ]
  },
  {
   "cell_type": "markdown",
   "id": "paperback-content",
   "metadata": {},
   "source": [
    "### Q4. Produce something similar with the word ‘Ahab’ (the captain name) and the string ‘whale’?"
   ]
  },
  {
   "cell_type": "code",
   "execution_count": 13,
   "id": "russian-theory",
   "metadata": {},
   "outputs": [
    {
     "data": {
      "image/png": "[encoded data removed]",
      "text/plain": [
       "<Figure size 1440x504 with 1 Axes>"
      ]
     },
     "metadata": {},
     "output_type": "display_data"
    },
    {
     "data": {
      "text/plain": [
       "<AxesSubplot:title={'center':'Lexical Dispersion Plot of Ahab, Whale'}, xlabel='Word Offset'>"
      ]
     },
     "execution_count": 13,
     "metadata": {},
     "output_type": "execute_result"
    }
   ],
   "source": [
    "# Changing all words to lower case\n",
    "total_words = [word.lower() for word in total_words]\n",
    "fig = plt.figure(figsize=(20,7))\n",
    "ax = fig.add_subplot(111)\n",
    "\n",
    "# Choose words whose occurence in the text will be plotted\n",
    "target_words = ['ahab','whale']\n",
    "\n",
    "# Create the visualizer and draw the plot\n",
    "visualizer = DispersionPlot(target_words, ax=ax, colors=['m'],\n",
    "                           title=\"Lexical Dispersion Plot of Ahab, Whale\")\n",
    "visualizer.fit([total_words])\n",
    "visualizer.show()"
   ]
  },
  {
   "cell_type": "markdown",
   "id": "super-separate",
   "metadata": {},
   "source": [
    "### Q5. Dispersion ploy of word \"upon\""
   ]
  },
  {
   "cell_type": "code",
   "execution_count": 14,
   "id": "retained-bunny",
   "metadata": {},
   "outputs": [
    {
     "data": {
      "image/png": "[encoded data removed]",
      "text/plain": [
       "<Figure size 1440x216 with 1 Axes>"
      ]
     },
     "metadata": {},
     "output_type": "display_data"
    },
    {
     "data": {
      "text/plain": [
       "<AxesSubplot:title={'center':'Lexical Dispersion Plot of Upon'}, xlabel='Word Offset'>"
      ]
     },
     "execution_count": 14,
     "metadata": {},
     "output_type": "execute_result"
    }
   ],
   "source": [
    "fig = plt.figure(figsize=(20,3))\n",
    "ax = fig.add_subplot(111)\n",
    "\n",
    "target_words = ['upon']\n",
    "\n",
    "# Create the visualizer and draw the plot\n",
    "visualizer = DispersionPlot(target_words, ax=ax, colors=['g'],\n",
    "                           title=\"Lexical Dispersion Plot of Upon\")\n",
    "visualizer.fit([total_words])\n",
    "visualizer.show()"
   ]
  },
  {
   "cell_type": "markdown",
   "id": "offshore-variation",
   "metadata": {},
   "source": [
    "### Q6. Do you see similarities and differences between these three views?\n",
    "\n",
    "Yes, From below dispersion plot I found that the author name 'ahab' occure mostly at end and late beginning of the novel. No author name occurs in the middle and the very beginning of the novel. 'whale' occure mostly in the middle of the novel. I also found that when whale word is present no author name occurs mostly. 'Upon' word occure mostly in the whole novel. Because it is a adjuctive."
   ]
  },
  {
   "cell_type": "code",
   "execution_count": 15,
   "id": "incoming-oxford",
   "metadata": {},
   "outputs": [
    {
     "data": {
      "image/png": "[encoded data removed]",
      "text/plain": [
       "<Figure size 1440x504 with 1 Axes>"
      ]
     },
     "metadata": {},
     "output_type": "display_data"
    },
    {
     "data": {
      "text/plain": [
       "<AxesSubplot:title={'center':'Lexical Dispersion Plot of Ahab, Whale, upon'}, xlabel='Word Offset'>"
      ]
     },
     "execution_count": 15,
     "metadata": {},
     "output_type": "execute_result"
    }
   ],
   "source": [
    "fig = plt.figure(figsize=(20,7))\n",
    "ax = fig.add_subplot(111)\n",
    "\n",
    "# Choose words whose occurence in the text will be plotted\n",
    "target_words = ['ahab','whale','upon']\n",
    "\n",
    "# Create the visualizer and draw the plot\n",
    "visualizer = DispersionPlot(target_words, ax=ax, colors=['b'],\n",
    "                           title=\"Lexical Dispersion Plot of Ahab, Whale, upon\")\n",
    "visualizer.fit([total_words])\n",
    "visualizer.show()"
   ]
  },
  {
   "cell_type": "code",
   "execution_count": null,
   "id": "broadband-tanzania",
   "metadata": {},
   "outputs": [],
   "source": []
  }
 ],
 "metadata": {
  "kernelspec": {
   "display_name": "Python 3",
   "language": "python",
   "name": "python3"
  },
  "language_info": {
   "codemirror_mode": {
    "name": "ipython",
    "version": 3
   },
   "file_extension": ".py",
   "mimetype": "text/x-python",
   "name": "python",
   "nbconvert_exporter": "python",
   "pygments_lexer": "ipython3",
   "version": "3.7.9"
  }
 },
 "nbformat": 4,
 "nbformat_minor": 5
}
