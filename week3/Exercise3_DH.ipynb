{
 "cells": [
  {
   "cell_type": "markdown",
   "metadata": {},
   "source": [
    "### Exercise 3: Digital Humanities"
   ]
  },
  {
   "cell_type": "code",
   "execution_count": 64,
   "metadata": {},
   "outputs": [],
   "source": [
    "import re\n",
    "import pandas as pd\n",
    "import numpy as np\n",
    "import matplotlib.pyplot as plt\n",
    "from yellowbrick.text import DispersionPlot"
   ]
  },
  {
   "cell_type": "code",
   "execution_count": 65,
   "metadata": {},
   "outputs": [
    {
     "name": "stdout",
     "output_type": "stream",
     "text": [
      "The Projec\n"
     ]
    }
   ],
   "source": [
    "file_path = './MobyDick.txt'\n",
    "\n",
    "with open(file_path) as stream:\n",
    "    file = stream.read()\n",
    "\n",
    "print(file[:10])"
   ]
  },
  {
   "cell_type": "markdown",
   "metadata": {},
   "source": [
    "### Q1. distinct word-tokens count in this novel?"
   ]
  },
  {
   "cell_type": "code",
   "execution_count": 66,
   "metadata": {},
   "outputs": [
    {
     "name": "stdout",
     "output_type": "stream",
     "text": [
      "Total 221908 number of word-tokens present in MobyDick novel\n",
      "\n",
      "['The', 'Project', 'Gutenberg', 'EBook', 'of', 'Moby', 'Dick', 'or', 'The', 'Whale', 'by', 'Herman', 'Melville', 'This', 'eBook', 'is', 'for', 'the', 'use', 'of', 'anyone', 'anywhere', 'at', 'no', 'cost', 'and', 'with', 'almost', 'no', 'restrictions', 'whatsoever', 'You', 'may', 'copy', 'it', 'give', 'it', 'away', 'or', 're', 'use', 'it', 'under', 'the', 'terms', 'of', 'the', 'Project', 'Gutenberg', 'License']\n"
     ]
    }
   ],
   "source": [
    "total_words = re.findall('[\\w]+',file )\n",
    "\n",
    "print(\"Total {} number of word-tokens present in MobyDick novel\\n\".format(len(total_words)))\n",
    "\n",
    "print(total_words[0:50])"
   ]
  },
  {
   "cell_type": "markdown",
   "metadata": {},
   "source": [
    "### Q2. Vocabulary size of novel"
   ]
  },
  {
   "cell_type": "code",
   "execution_count": 67,
   "metadata": {},
   "outputs": [
    {
     "name": "stdout",
     "output_type": "stream",
     "text": [
      "Vocabulary Size: 19545\n"
     ]
    }
   ],
   "source": [
    "unique_words = set(re.findall('\\w+', str(total_words), re.UNICODE))\n",
    "\n",
    "print(\"Vocabulary Size: {}\".format(len(unique_words)))"
   ]
  },
  {
   "cell_type": "markdown",
   "metadata": {},
   "source": [
    "### Q3. Number of occurance of word \"Swiss\""
   ]
  },
  {
   "cell_type": "code",
   "execution_count": 68,
   "metadata": {},
   "outputs": [
    {
     "name": "stdout",
     "output_type": "stream",
     "text": [
      "No of occurances of word swiss is 1\n"
     ]
    }
   ],
   "source": [
    "occurences = re.findall('swiss', str(total_words), re.I )\n",
    "\n",
    "print(\"No of occurances of word swiss is {}\".format(len(occurences)))"
   ]
  },
  {
   "cell_type": "markdown",
   "metadata": {},
   "source": [
    "### Q4. Produce something similar with the word ‘Ahab’ (the captain name) and the string ‘whale’?"
   ]
  },
  {
   "cell_type": "code",
   "execution_count": 69,
   "metadata": {},
   "outputs": [
    {
     "data": {
      "image/png": "[encoded data removed]",
      "text/plain": [
       "<Figure size 1440x504 with 1 Axes>"
      ]
     },
     "metadata": {},
     "output_type": "display_data"
    },
    {
     "data": {
      "text/plain": [
       "<AxesSubplot:title={'center':'Lexical Dispersion Plot'}, xlabel='Word Offset'>"
      ]
     },
     "execution_count": 69,
     "metadata": {},
     "output_type": "execute_result"
    }
   ],
   "source": [
    "# \n",
    "total_words = [word.lower() for word in total_words]\n",
    "fig = plt.figure(figsize=(20,7))\n",
    "ax = fig.add_subplot(111)\n",
    "\n",
    "# Choose words whose occurence in the text will be plotted\n",
    "target_words = ['ahab','whale', 'upon']\n",
    "\n",
    "# Create the visualizer and draw the plot\n",
    "visualizer = DispersionPlot(target_words, ax=ax, colors=['m'],\n",
    "                           title=\"Lexical Dispersion Plot\")\n",
    "visualizer.fit([total_words])\n",
    "visualizer.show()\n",
    "\n",
    "\n",
    "\n",
    "\n"
   ]
  },
  {
   "cell_type": "code",
   "execution_count": null,
   "metadata": {},
   "outputs": [],
   "source": []
  }
 ],
 "metadata": {
  "kernelspec": {
   "display_name": "Python 3",
   "language": "python",
   "name": "python3"
  },
  "language_info": {
   "codemirror_mode": {
    "name": "ipython",
    "version": 3
   },
   "file_extension": ".py",
   "mimetype": "text/x-python",
   "name": "python",
   "nbconvert_exporter": "python",
   "pygments_lexer": "ipython3",
   "version": "3.7.3"
  }
 },
 "nbformat": 4,
 "nbformat_minor": 5
}
