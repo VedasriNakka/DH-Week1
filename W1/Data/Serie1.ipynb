{
 "cells": [
  {
   "cell_type": "markdown",
   "metadata": {},
   "source": [
    "### Digital Humanities First Assignment:\n",
    "\n",
    "Input:\n",
    "\n",
    "Output:\n"
   ]
  },
  {
   "cell_type": "code",
   "execution_count": 22,
   "metadata": {
    "pycharm": {
     "name": "#%% read the data\n"
    }
   },
   "outputs": [],
   "source": [
    "import pandas as pd\n",
    "train_data = pd.read_csv(\"data/mnist-csv-format/mnist_train.csv\", header=0)\n",
    "test_data = pd.read_csv(\"data/mnist-csv-format/mnist_test.csv\", header=0)\n",
    "\n",
    "train_y = train_data.iloc[:,0].to_numpy()\n",
    "train_x = train_data.iloc[:,1:].to_numpy()\n",
    "\n",
    "test_y = test_data.iloc[:,0].to_numpy()\n",
    "test_x = test_data.iloc[:,1:].to_numpy()"
   ]
  }
 ],
 "metadata": {
  "kernelspec": {
   "display_name": "Python 3",
   "language": "python",
   "name": "python3"
  },
  "language_info": {
   "codemirror_mode": {
    "name": "ipython",
    "version": 3
   },
   "file_extension": ".py",
   "mimetype": "text/x-python",
   "name": "python",
   "nbconvert_exporter": "python",
   "pygments_lexer": "ipython3",
   "version": "3.7.9"
  }
 },
 "nbformat": 4,
 "nbformat_minor": 1
}
