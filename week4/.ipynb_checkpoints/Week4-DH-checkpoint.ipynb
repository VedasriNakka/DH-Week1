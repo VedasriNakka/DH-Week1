{
 "cells": [
  {
   "cell_type": "markdown",
   "id": "radical-duplicate",
   "metadata": {},
   "source": [
    "## Week 4 - Digital Humanities"
   ]
  },
  {
   "cell_type": "code",
   "execution_count": 26,
   "id": "drawn-spelling",
   "metadata": {},
   "outputs": [],
   "source": [
    "import re\n",
    "import numpy as np\n",
    "import pandas as pd\n",
    "from scipy import stats"
   ]
  },
  {
   "cell_type": "markdown",
   "id": "caring-celebration",
   "metadata": {},
   "source": [
    "#### Replace “Ann” by “Alice”"
   ]
  },
  {
   "cell_type": "code",
   "execution_count": 4,
   "id": "natural-decimal",
   "metadata": {},
   "outputs": [
    {
     "data": {
      "text/plain": [
       "'Alice plays the role with Mary and Annie'"
      ]
     },
     "execution_count": 4,
     "metadata": {},
     "output_type": "execute_result"
    }
   ],
   "source": [
    "re.sub('^Ann', 'Alice','Ann plays the role with Mary and Annie')"
   ]
  },
  {
   "cell_type": "markdown",
   "id": "toxic-organization",
   "metadata": {},
   "source": [
    "#### Remove the decimal part of prices"
   ]
  },
  {
   "cell_type": "code",
   "execution_count": 5,
   "id": "hungry-execution",
   "metadata": {},
   "outputs": [
    {
     "data": {
      "text/plain": [
       "'$99. to $87. or Fr.75.'"
      ]
     },
     "execution_count": 5,
     "metadata": {},
     "output_type": "execute_result"
    }
   ],
   "source": [
    "aPat = '(?<=[\\d+])\\.\\d+'\n",
    "re.sub(aPat ,'.','$99.99 to $87.80 or Fr.75.50')"
   ]
  },
  {
   "cell_type": "markdown",
   "id": "harmful-skirt",
   "metadata": {},
   "source": [
    "### For the genre ‘Comédie’, extract (in a list) the number of word-tokens per play. "
   ]
  },
  {
   "cell_type": "code",
   "execution_count": 6,
   "id": "public-vulnerability",
   "metadata": {},
   "outputs": [],
   "source": [
    "import os\n",
    "import lxml.etree\n",
    "import tarfile\n",
    "import collections\n",
    "import matplotlib.pyplot as plt\n",
    "\n",
    "tf = tarfile.open('./theatre-classique.tar.gz','r')\n",
    "tf.extractall('data')"
   ]
  },
  {
   "cell_type": "code",
   "execution_count": 7,
   "id": "southeast-knock",
   "metadata": {},
   "outputs": [
    {
     "name": "stdout",
     "output_type": "stream",
     "text": [
      "('Comédie', 'Tragédie', 'Tragi-comédie')\n"
     ]
    }
   ],
   "source": [
    "subgenres = ('Comédie', 'Tragédie', 'Tragi-comédie')\n",
    "print(subgenres)\n",
    "plays, titles, genres = [], [], []\n",
    "authors, years = [],[]"
   ]
  },
  {
   "cell_type": "code",
   "execution_count": 8,
   "id": "generous-agriculture",
   "metadata": {},
   "outputs": [],
   "source": [
    "for fn in os.scandir('data/theatre-classique'):\n",
    "    # Only include XML files\n",
    "    if not fn.name.endswith('.xml'):\n",
    "        continue\n",
    "    tree   = lxml.etree.parse(fn.path)\n",
    "    genre  = tree.find('//genre')\n",
    "    title  = tree.find('//title')\n",
    "    author = tree.find('//author')\n",
    "    year   = tree.find('//date')\n",
    "    if genre is not None and genre.text in subgenres:\n",
    "        lines = []\n",
    "        for line in tree.xpath('//l|//p'):\n",
    "            lines.append(' '.join(line.itertext()))\n",
    "        text = '\\n'.join(lines)\n",
    "        plays.append(text)\n",
    "        genres.append(genre.text)\n",
    "        titles.append(title.text)\n",
    "        authors.append(author.text)\n",
    "        if year is not None:\n",
    "            years.append(year.text)\n",
    "            "
   ]
  },
  {
   "cell_type": "code",
   "execution_count": 50,
   "id": "incident-canyon",
   "metadata": {},
   "outputs": [
    {
     "name": "stdout",
     "output_type": "stream",
     "text": [
      "Total no. of plays per genres:  Counter({'Comédie': 310, 'Tragédie': 150, 'Tragi-comédie': 38})\n"
     ]
    }
   ],
   "source": [
    "counts = collections.Counter(genres)\n",
    "print(\"Total no. of plays per genres: \", counts)"
   ]
  },
  {
   "cell_type": "markdown",
   "id": "coated-attribute",
   "metadata": {},
   "source": [
    "#### Extract mean word-tokens per genre"
   ]
  },
  {
   "cell_type": "code",
   "execution_count": 80,
   "id": "boring-commissioner",
   "metadata": {},
   "outputs": [
    {
     "name": "stdout",
     "output_type": "stream",
     "text": [
      "Length: 310, Mean word tokens for Comedie       : 10041.42\n",
      "Length: 150, Mean word tokens for Tragédie      : 14325.02\n",
      "Length:  38, Mean word tokens for Tragi-comédie : 16232.11\n"
     ]
    }
   ],
   "source": [
    "word_token_all_comedie = []\n",
    "word_token_all_tragi_comedie = []\n",
    "word_token_all_tragedie = []\n",
    "\n",
    "for play, genre in zip(plays, genres):\n",
    "    \n",
    "    if genre == 'Comédie':\n",
    "        total_words = re.findall('[\\w]+', play)\n",
    "        word_token_all_comedie.append(len(total_words))\n",
    "\n",
    "    elif genre =='Tragédie':\n",
    "        total_words = re.findall('[\\w]+', play)\n",
    "        word_token_all_tragedie.append(len(total_words))\n",
    "    \n",
    "    else:\n",
    "        total_words = re.findall('[\\w]+', play)\n",
    "        word_token_all_tragi_comedie.append(len(total_words))\n",
    "    \n",
    "    \n",
    "print(\"Length: {:3d}, Mean word tokens for Comedie       : {:.2f}\"\n",
    "      .format(len(word_token_all_comedie), np.mean(np.array(word_token_all_comedie))))\n",
    "\n",
    "print(\"Length: {:3d}, Mean word tokens for Tragédie      : {:.2f}\"\n",
    "      .format(len(word_token_all_tragedie), np.mean(np.array(word_token_all_tragedie))))\n",
    "\n",
    "print(\"Length: {:3d}, Mean word tokens for Tragi-comédie : {:.2f}\"\n",
    "      .format(len(word_token_all_tragi_comedie), np.mean(np.array(word_token_all_tragi_comedie))))\n"
   ]
  },
  {
   "cell_type": "markdown",
   "id": "abstract-prison",
   "metadata": {},
   "source": [
    "### Perform t-tests on mean of word tokens for different genres"
   ]
  },
  {
   "cell_type": "code",
   "execution_count": 60,
   "id": "congressional-architect",
   "metadata": {},
   "outputs": [
    {
     "name": "stdout",
     "output_type": "stream",
     "text": [
      "Statistic: 0.14, p-Value: 0.89 for Comedie with 10000 mean word count\n"
     ]
    }
   ],
   "source": [
    "result = stats.ttest_1samp(word_token_all_comedie, 10000)\n",
    "print(\"Statistic: {:.2f}, p-Value: {:.2f} for Comedie with 10000 mean word count\"\n",
    "      .format(result.statistic, result.pvalue))"
   ]
  },
  {
   "cell_type": "code",
   "execution_count": 64,
   "id": "twenty-while",
   "metadata": {},
   "outputs": [
    {
     "name": "stdout",
     "output_type": "stream",
     "text": [
      "Statistic: 1.17, p-Value: 0.24 for Tragedie with 14000 mean word count\n"
     ]
    }
   ],
   "source": [
    "result = stats.ttest_1samp(word_token_all_tragedie, 14000)\n",
    "print(\"Statistic: {:.2f}, p-Value: {:.2f} for Tragedie with 14000 mean word count\"\n",
    "      .format(result.statistic, result.pvalue))"
   ]
  },
  {
   "cell_type": "code",
   "execution_count": 62,
   "id": "bored-appearance",
   "metadata": {},
   "outputs": [
    {
     "name": "stdout",
     "output_type": "stream",
     "text": [
      "Statistic: -2.43, p-Value: 0.02 for Tragedie with 15000 mean word count\n"
     ]
    }
   ],
   "source": [
    "result = stats.ttest_1samp(word_token_all_tragedie, 15000)\n",
    "print(\"Statistic: {:.2f}, p-Value: {:.2f} for Tragedie with 15000 mean word count\"\n",
    "      .format(result.statistic, result.pvalue))"
   ]
  },
  {
   "cell_type": "markdown",
   "id": "economic-steel",
   "metadata": {},
   "source": [
    "### Analysis\n"
   ]
  },
  {
   "cell_type": "markdown",
   "id": "combined-rolling",
   "metadata": {},
   "source": [
    "1. The population mean for Comedie genre is 10041.42. Since, we acheived t-test with p-Value of 0.89 with 10,000 mean word token for comedie genre, so we can accept the Null hypothesis that mean of word-tokens  approximatly close to the 10000 mean token count. \n",
    "\n"
   ]
  },
  {
   "cell_type": "markdown",
   "id": "isolated-photograph",
   "metadata": {},
   "source": [
    "\n",
    "2. Population mean of Tragedie genre is 14325.02. The t-test gives p-value for Tragedie genre of 0.24 for 14000 mean word count. We can take this into consideration of p-value and can therefore say the mean word token near to the 14000 mean word count."
   ]
  },
  {
   "cell_type": "markdown",
   "id": "cooked-creator",
   "metadata": {},
   "source": [
    "\n",
    "3. But when comparing mean ttest with 15000 mean word token, the  p-value is very small 0.02. Therefore, we can reject the null hypothesis. "
   ]
  }
 ],
 "metadata": {
  "kernelspec": {
   "display_name": "Python 3",
   "language": "python",
   "name": "python3"
  },
  "language_info": {
   "codemirror_mode": {
    "name": "ipython",
    "version": 3
   },
   "file_extension": ".py",
   "mimetype": "text/x-python",
   "name": "python",
   "nbconvert_exporter": "python",
   "pygments_lexer": "ipython3",
   "version": "3.7.9"
  }
 },
 "nbformat": 4,
 "nbformat_minor": 5
}
